{
  "nbformat": 4,
  "nbformat_minor": 0,
  "metadata": {
    "colab": {
      "provenance": []
    },
    "kernelspec": {
      "name": "python3",
      "display_name": "Python 3"
    },
    "language_info": {
      "name": "python"
    }
  },
  "cells": [
    {
      "cell_type": "markdown",
      "source": [
        "Soal 1"
      ],
      "metadata": {
        "id": "H1GuzhaDS08N"
      }
    },
    {
      "cell_type": "code",
      "source": [
        "a = [30, 50, 20, 10, 6, 8, 3]\n",
        "a.sort()\n",
        "print(f\"Nilai 3 terbesar : {a[-1]}, {a[-2]}, {a[-3]}\")"
      ],
      "metadata": {
        "colab": {
          "base_uri": "https://localhost:8080/"
        },
        "id": "lw4dGl5DS2JG",
        "outputId": "add6d487-b676-4ad0-8c62-5a434fbc3f0a"
      },
      "execution_count": 8,
      "outputs": [
        {
          "output_type": "stream",
          "name": "stdout",
          "text": [
            "Nilai 3 terbesar : 50, 30, 20\n"
          ]
        }
      ]
    },
    {
      "cell_type": "markdown",
      "source": [
        "Soal 2"
      ],
      "metadata": {
        "id": "vSe3INVkS7Im"
      }
    },
    {
      "cell_type": "code",
      "source": [
        "lst = []\n",
        "while True:\n",
        "    inputtan = input(\"Enter / ketik 'done' kalau selesai: \")\n",
        "    if inputtan == \"done\":\n",
        "        break\n",
        "    else:\n",
        "        input_user = int(input(\"Masukkan angka: \"))\n",
        "        lst.append(input_user)\n",
        "\n",
        "print(f\"List anda: {lst}\")\n",
        "print(f\"Nilai terbesarnya : {max(lst)}\")\n",
        "print(f\"Nilai terkecilnya : {min(lst)}\")"
      ],
      "metadata": {
        "colab": {
          "base_uri": "https://localhost:8080/"
        },
        "id": "LZUC2ICUTJnD",
        "outputId": "d623f5b2-b02e-4dad-cc07-b0702085d70f"
      },
      "execution_count": 10,
      "outputs": [
        {
          "output_type": "stream",
          "name": "stdout",
          "text": [
            "Enter / ketik 'done' kalau selesai: \n",
            "Masukkan angka: 40\n",
            "Enter / ketik 'done' kalau selesai: \n",
            "Masukkan angka: 30\n",
            "Enter / ketik 'done' kalau selesai: \n",
            "Masukkan angka: 20\n",
            "Enter / ketik 'done' kalau selesai: \n",
            "Masukkan angka: 10\n",
            "Enter / ketik 'done' kalau selesai: done\n",
            "List anda: [40, 30, 20, 10]\n",
            "Nilai terbesarnya : 40\n",
            "Nilai terkecilnya : 10\n"
          ]
        }
      ]
    },
    {
      "cell_type": "code",
      "source": [
        "with open(\"berita.txt\", \"r\") as file:\n",
        "    lines = file.readlines()\n",
        "    for line in lines:\n",
        "        print(f\"=====Isi Berita=====\\n{line}\\n=====Kata Unik Pada Berita=====\\n{line.split()}\")"
      ],
      "metadata": {
        "id": "sKEnNumMVqEI"
      },
      "execution_count": null,
      "outputs": []
    }
  ]
}