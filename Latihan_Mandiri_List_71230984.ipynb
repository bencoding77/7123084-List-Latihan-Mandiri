{
  "cells": [
    {
      "cell_type": "markdown",
      "metadata": {
        "id": "H1GuzhaDS08N"
      },
      "source": [
        "Soal 1"
      ]
    },
    {
      "cell_type": "code",
      "execution_count": 8,
      "metadata": {
        "colab": {
          "base_uri": "https://localhost:8080/"
        },
        "id": "lw4dGl5DS2JG",
        "outputId": "add6d487-b676-4ad0-8c62-5a434fbc3f0a"
      },
      "outputs": [
        {
          "name": "stdout",
          "output_type": "stream",
          "text": [
            "Nilai 3 terbesar : 50, 30, 20\n"
          ]
        }
      ],
      "source": [
        "a = [30, 50, 20, 10, 6, 8, 3]\n",
        "a.sort()\n",
        "print(f\"Nilai 3 terbesar : {a[-1]}, {a[-2]}, {a[-3]}\")"
      ]
    },
    {
      "cell_type": "markdown",
      "metadata": {
        "id": "vSe3INVkS7Im"
      },
      "source": [
        "Soal 2"
      ]
    },
    {
      "cell_type": "code",
      "execution_count": 10,
      "metadata": {
        "colab": {
          "base_uri": "https://localhost:8080/"
        },
        "id": "LZUC2ICUTJnD",
        "outputId": "d623f5b2-b02e-4dad-cc07-b0702085d70f"
      },
      "outputs": [
        {
          "name": "stdout",
          "output_type": "stream",
          "text": [
            "Enter / ketik 'done' kalau selesai: \n",
            "Masukkan angka: 40\n",
            "Enter / ketik 'done' kalau selesai: \n",
            "Masukkan angka: 30\n",
            "Enter / ketik 'done' kalau selesai: \n",
            "Masukkan angka: 20\n",
            "Enter / ketik 'done' kalau selesai: \n",
            "Masukkan angka: 10\n",
            "Enter / ketik 'done' kalau selesai: done\n",
            "List anda: [40, 30, 20, 10]\n",
            "Nilai terbesarnya : 40\n",
            "Nilai terkecilnya : 10\n"
          ]
        }
      ],
      "source": [
        "lst = []\n",
        "while True:\n",
        "    inputtan = input(\"Enter / ketik 'done' kalau selesai: \")\n",
        "    if inputtan == \"done\":\n",
        "        break\n",
        "    else:\n",
        "        input_user = int(input(\"Masukkan angka: \"))\n",
        "        lst.append(input_user)\n",
        "\n",
        "print(f\"List anda: {lst}\")\n",
        "print(f\"Nilai terbesarnya : {max(lst)}\")\n",
        "print(f\"Nilai terkecilnya : {min(lst)}\")"
      ]
    },
    {
      "cell_type": "markdown",
      "metadata": {},
      "source": [
        "Soal 3"
      ]
    },
    {
      "cell_type": "code",
      "execution_count": null,
      "metadata": {
        "id": "sKEnNumMVqEI"
      },
      "outputs": [],
      "source": [
        "with open(\"berita.txt\", \"r\") as file:\n",
        "    lines = file.read()\n",
        "    print(\"=====ISI BERITA=====\")\n",
        "    print(lines)\n",
        "\n",
        "\n",
        "    kalimat = lines.split()\n",
        "    kata_unik = []\n",
        "    for kata in kalimat:\n",
        "        if kata not in kata_unik:\n",
        "            kata_unik.append(kata.strip(',!?.'))\n",
        "    print(\"\\n=====Kata Unik Pada Berita=====\")\n",
        "    print(kata_unik)"
      ]
    }
  ],
  "metadata": {
    "colab": {
      "provenance": []
    },
    "kernelspec": {
      "display_name": "Python 3",
      "name": "python3"
    },
    "language_info": {
      "name": "python"
    }
  },
  "nbformat": 4,
  "nbformat_minor": 0
}
